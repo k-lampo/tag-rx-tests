{
 "cells": [
  {
   "cell_type": "code",
   "execution_count": 1,
   "id": "22ea8558-6ed4-4635-ac15-c33cafc0baef",
   "metadata": {},
   "outputs": [],
   "source": [
    "using LinearAlgebra\n",
    "using ForwardDiff"
   ]
  },
  {
   "cell_type": "code",
   "execution_count": 131,
   "id": "0657a367-21de-407f-aa9c-20b51ebb6444",
   "metadata": {},
   "outputs": [
    {
     "data": {
      "text/plain": [
       "3×4 Matrix{Float64}:\n",
       "  4.29383    -4.51005   1.7759     -1.22739\n",
       " -2.9328     -2.71359   1.14301     1.74075\n",
       "  0.0494788   0.288751  0.0161885  -0.0257875"
      ]
     },
     "execution_count": 131,
     "metadata": {},
     "output_type": "execute_result"
    }
   ],
   "source": [
    "r_rx = reshape([4.293827035231330  -2.932803253236232   0.049478811607765  -4.510052883266811 -2.713585854152024   0.288750584827538   1.775897028559260   1.143011600958173 0.016188456663874  -1.227388481747143   1.740752145645313  -0.025787452759501], (3,4))"
   ]
  },
  {
   "cell_type": "code",
   "execution_count": 132,
   "id": "f989af38-9544-476b-98c3-84ccc281e14b",
   "metadata": {},
   "outputs": [
    {
     "data": {
      "text/plain": [
       "0.0"
      ]
     },
     "execution_count": 132,
     "metadata": {},
     "output_type": "execute_result"
    }
   ],
   "source": [
    "tag_elev = 0.0"
   ]
  },
  {
   "cell_type": "code",
   "execution_count": 134,
   "id": "dee460fd-4dc1-4710-8153-bd2de9e53b52",
   "metadata": {},
   "outputs": [
    {
     "data": {
      "text/plain": [
       "4×1 Matrix{Float64}:\n",
       "       0.0\n",
       " -527140.0129363028\n",
       " -417256.895946688\n",
       "   48024.0310983936"
      ]
     },
     "execution_count": 134,
     "metadata": {},
     "output_type": "execute_result"
    }
   ],
   "source": [
    "t_rx = 1e5*[0  -5.271400129363028  -4.172568959466880   0.480240310983936]'"
   ]
  },
  {
   "cell_type": "code",
   "execution_count": 135,
   "id": "561e7567-6e8f-4627-ae17-be2d5cdcb58b",
   "metadata": {},
   "outputs": [
    {
     "data": {
      "text/plain": [
       "3×1 Matrix{Float64}:\n",
       " -527139.5147390924\n",
       " -417257.42998640245\n",
       "   48027.9094964825"
      ]
     },
     "execution_count": 135,
     "metadata": {},
     "output_type": "execute_result"
    }
   ],
   "source": [
    "t_offset = 1e5*[-5.271395147390924  -4.172574299864024   0.480279094964825]'"
   ]
  },
  {
   "cell_type": "code",
   "execution_count": 136,
   "id": "87e9c2db-a4db-4c18-8b7e-2d0ad2814df1",
   "metadata": {},
   "outputs": [
    {
     "data": {
      "text/plain": [
       "20×1 Matrix{Float64}:\n",
       "       4.29382703523133\n",
       "      -2.932803253236232\n",
       "       0.049478811607765\n",
       "      -4.510052883266811\n",
       "      -2.713585854152024\n",
       "       0.288750584827538\n",
       "       1.77589702855926\n",
       "       1.143011600958173\n",
       "       0.016188456663874\n",
       "      -1.227388481747143\n",
       "       1.740752145645313\n",
       "      -0.025787452759501\n",
       "       0.0\n",
       "       0.0\n",
       " -527140.0129363028\n",
       " -417256.895946688\n",
       "   48024.0310983936\n",
       " -527139.5147390924\n",
       " -417257.42998640245\n",
       "   48027.9094964825"
      ]
     },
     "execution_count": 136,
     "metadata": {},
     "output_type": "execute_result"
    }
   ],
   "source": [
    "θ = [r_rx[:]; tag_elev; t_rx; t_offset]"
   ]
  },
  {
   "cell_type": "code",
   "execution_count": 137,
   "id": "ca644cc0-2a0e-4fa9-90c9-debf554635af",
   "metadata": {},
   "outputs": [
    {
     "data": {
      "text/plain": [
       "3×1 adjoint(::Matrix{Float64}) with eltype Float64:\n",
       " -1.469209276376144\n",
       "  1.779965499033907\n",
       " -2.330889985309173"
      ]
     },
     "execution_count": 137,
     "metadata": {},
     "output_type": "execute_result"
    }
   ],
   "source": [
    "x = [-1.469209276376144   1.779965499033907  -2.330889985309173]'"
   ]
  },
  {
   "cell_type": "code",
   "execution_count": 198,
   "id": "10951764-1648-49a2-b4ee-bc62875dd750",
   "metadata": {},
   "outputs": [
    {
     "data": {
      "text/plain": [
       "residual (generic function with 1 method)"
      ]
     },
     "execution_count": 198,
     "metadata": {},
     "output_type": "execute_result"
    }
   ],
   "source": [
    "function residual(x,θ)\n",
    "    c = 299792458.0/1e8\n",
    "    r_tag = x[1:2]\n",
    "    t_tx = x[3]\n",
    "    \n",
    "    r_rx = reshape(θ[1:12], (3,4))\n",
    "    tag_elev = θ[13]\n",
    "    t_rx = θ[14:17]\n",
    "    t_offset = θ[18:20]\n",
    "    \n",
    "    r = zeros(eltype(θ), 4)\n",
    "    r[1] = norm([r_tag; tag_elev] - r_rx[:,1])/c - t_rx[1] + t_tx\n",
    "    for k = 2:4\n",
    "        r[k] = norm([r_tag; tag_elev] - r_rx[:,k])/c - t_rx[k] + t_offset[k-1] + t_tx\n",
    "    end\n",
    "    \n",
    "    return r\n",
    "end"
   ]
  },
  {
   "cell_type": "code",
   "execution_count": 199,
   "id": "28c6b244-c2f7-4ddb-aa5e-2433b6abbf26",
   "metadata": {},
   "outputs": [
    {
     "data": {
      "text/plain": [
       "jacobian (generic function with 1 method)"
      ]
     },
     "execution_count": 199,
     "metadata": {},
     "output_type": "execute_result"
    }
   ],
   "source": [
    "function jacobian(x,θ)\n",
    "    c = 299792458.0/1e8\n",
    "    r_tag = x[1:2]\n",
    "    t_tx = x[3]\n",
    "    \n",
    "    r_rx = reshape(θ[1:12], (3,4))\n",
    "    tag_elev = θ[13]\n",
    "    t_rx = θ[14:17]\n",
    "    t_offset = θ[18:20]\n",
    "    \n",
    "    J = zeros(eltype(θ), 4,3)\n",
    "    for k = 1:4\n",
    "        J[k,:] = [(r_tag - r_rx[1:2,k])'/(c*norm([r_tag; tag_elev] - r_rx[:,k])) 1];\n",
    "    end\n",
    "    \n",
    "    return J\n",
    "end"
   ]
  },
  {
   "cell_type": "code",
   "execution_count": 200,
   "id": "cc34ca74-f96d-4051-a6dc-b9289b054220",
   "metadata": {},
   "outputs": [
    {
     "data": {
      "text/plain": [
       "f (generic function with 1 method)"
      ]
     },
     "execution_count": 200,
     "metadata": {},
     "output_type": "execute_result"
    }
   ],
   "source": [
    "function f(x,θ)\n",
    "    return jacobian(x,θ)'*residual(x,θ)\n",
    "end"
   ]
  },
  {
   "cell_type": "code",
   "execution_count": 201,
   "id": "2bfc9bfb-7bed-43de-8574-9c82e764e5cf",
   "metadata": {},
   "outputs": [
    {
     "data": {
      "text/plain": [
       "3×20 Matrix{Float64}:\n",
       " -0.0694056   0.0511779  -0.00053732   …  0.186709  -0.327314   -0.327442\n",
       "  0.0511779  -0.0486827   0.000439437     0.275845   0.0642493   0.0531191\n",
       "  0.258203   -0.211166    0.00221705      1.0        1.0         1.0"
      ]
     },
     "execution_count": 201,
     "metadata": {},
     "output_type": "execute_result"
    }
   ],
   "source": [
    "Jθ = ForwardDiff.jacobian(dθ->f(x,dθ),θ)"
   ]
  },
  {
   "cell_type": "code",
   "execution_count": 196,
   "id": "06b0e8aa-910d-4d2a-82a3-9595d428d17c",
   "metadata": {},
   "outputs": [
    {
     "data": {
      "text/plain": [
       "3×3 Matrix{Float64}:\n",
       "  0.391636  0.274691  -0.72625\n",
       "  0.274691  2.11624    0.60438\n",
       " -0.72625   0.60438    4.0"
      ]
     },
     "execution_count": 196,
     "metadata": {},
     "output_type": "execute_result"
    }
   ],
   "source": [
    "H = ForwardDiff.jacobian(dx->f(dx,θ),x)"
   ]
  },
  {
   "cell_type": "code",
   "execution_count": 202,
   "id": "06b60e9b-db40-4949-9330-118616a5a51a",
   "metadata": {},
   "outputs": [
    {
     "data": {
      "text/plain": [
       "3×20 Matrix{Float64}:\n",
       " -0.132953    0.0857785  -0.000827737  …   1.84474   -0.69201    -0.681382\n",
       "  0.0312481  -0.0245698   0.000208726     -0.288609   0.0884871   0.0809726\n",
       "  0.0356901  -0.0335051   0.000372439      0.628542   0.110987    0.114052"
      ]
     },
     "execution_count": 202,
     "metadata": {},
     "output_type": "execute_result"
    }
   ],
   "source": [
    "dxdθ = H\\Jθ"
   ]
  },
  {
   "cell_type": "code",
   "execution_count": 391,
   "id": "e277e450-9fb8-4cc2-994e-7742939342c7",
   "metadata": {},
   "outputs": [
    {
     "data": {
      "text/plain": [
       "20×20 Diagonal{Float64, Vector{Float64}}:\n",
       " 0.01   ⋅     ⋅    ⋅     ⋅     ⋅    ⋅    …   ⋅    ⋅    ⋅    ⋅    ⋅    ⋅    ⋅ \n",
       "  ⋅    0.01   ⋅    ⋅     ⋅     ⋅    ⋅        ⋅    ⋅    ⋅    ⋅    ⋅    ⋅    ⋅ \n",
       "  ⋅     ⋅    0.1   ⋅     ⋅     ⋅    ⋅        ⋅    ⋅    ⋅    ⋅    ⋅    ⋅    ⋅ \n",
       "  ⋅     ⋅     ⋅   0.01   ⋅     ⋅    ⋅        ⋅    ⋅    ⋅    ⋅    ⋅    ⋅    ⋅ \n",
       "  ⋅     ⋅     ⋅    ⋅    0.01   ⋅    ⋅        ⋅    ⋅    ⋅    ⋅    ⋅    ⋅    ⋅ \n",
       "  ⋅     ⋅     ⋅    ⋅     ⋅    0.1   ⋅    …   ⋅    ⋅    ⋅    ⋅    ⋅    ⋅    ⋅ \n",
       "  ⋅     ⋅     ⋅    ⋅     ⋅     ⋅   0.01      ⋅    ⋅    ⋅    ⋅    ⋅    ⋅    ⋅ \n",
       "  ⋅     ⋅     ⋅    ⋅     ⋅     ⋅    ⋅        ⋅    ⋅    ⋅    ⋅    ⋅    ⋅    ⋅ \n",
       "  ⋅     ⋅     ⋅    ⋅     ⋅     ⋅    ⋅        ⋅    ⋅    ⋅    ⋅    ⋅    ⋅    ⋅ \n",
       "  ⋅     ⋅     ⋅    ⋅     ⋅     ⋅    ⋅        ⋅    ⋅    ⋅    ⋅    ⋅    ⋅    ⋅ \n",
       "  ⋅     ⋅     ⋅    ⋅     ⋅     ⋅    ⋅    …   ⋅    ⋅    ⋅    ⋅    ⋅    ⋅    ⋅ \n",
       "  ⋅     ⋅     ⋅    ⋅     ⋅     ⋅    ⋅        ⋅    ⋅    ⋅    ⋅    ⋅    ⋅    ⋅ \n",
       "  ⋅     ⋅     ⋅    ⋅     ⋅     ⋅    ⋅        ⋅    ⋅    ⋅    ⋅    ⋅    ⋅    ⋅ \n",
       "  ⋅     ⋅     ⋅    ⋅     ⋅     ⋅    ⋅       0.1   ⋅    ⋅    ⋅    ⋅    ⋅    ⋅ \n",
       "  ⋅     ⋅     ⋅    ⋅     ⋅     ⋅    ⋅        ⋅   0.1   ⋅    ⋅    ⋅    ⋅    ⋅ \n",
       "  ⋅     ⋅     ⋅    ⋅     ⋅     ⋅    ⋅    …   ⋅    ⋅   0.1   ⋅    ⋅    ⋅    ⋅ \n",
       "  ⋅     ⋅     ⋅    ⋅     ⋅     ⋅    ⋅        ⋅    ⋅    ⋅   0.1   ⋅    ⋅    ⋅ \n",
       "  ⋅     ⋅     ⋅    ⋅     ⋅     ⋅    ⋅        ⋅    ⋅    ⋅    ⋅   0.1   ⋅    ⋅ \n",
       "  ⋅     ⋅     ⋅    ⋅     ⋅     ⋅    ⋅        ⋅    ⋅    ⋅    ⋅    ⋅   0.1   ⋅ \n",
       "  ⋅     ⋅     ⋅    ⋅     ⋅     ⋅    ⋅        ⋅    ⋅    ⋅    ⋅    ⋅    ⋅   0.1"
      ]
     },
     "execution_count": 391,
     "metadata": {},
     "output_type": "execute_result"
    }
   ],
   "source": [
    "Σθ = Diagonal([kron(ones(4),[1.0/100; 1.0/100; 10.0/100]); 10.0/100; kron(ones(7),100e-9/1e-6)])"
   ]
  },
  {
   "cell_type": "code",
   "execution_count": 392,
   "id": "46cba308-c59a-4271-8d71-c87de8e90c12",
   "metadata": {},
   "outputs": [
    {
     "data": {
      "text/plain": [
       "3×3 Matrix{Float64}:\n",
       "  1.19651   -0.201583    0.260872\n",
       " -0.201583   0.0468957  -0.0469506\n",
       "  0.260872  -0.0469506   0.101382"
      ]
     },
     "execution_count": 392,
     "metadata": {},
     "output_type": "execute_result"
    }
   ],
   "source": [
    "Σx = dxdθ*Σθ*dxdθ'"
   ]
  },
  {
   "cell_type": "code",
   "execution_count": 393,
   "id": "6482aa7c-3dff-4546-a0d0-23926b0ab33d",
   "metadata": {},
   "outputs": [
    {
     "data": {
      "text/plain": [
       "111.50791965013809"
      ]
     },
     "execution_count": 393,
     "metadata": {},
     "output_type": "execute_result"
    }
   ],
   "source": [
    "100*sqrt((Σx[1,1]+Σx[2,2]))"
   ]
  },
  {
   "cell_type": "code",
   "execution_count": 300,
   "id": "258e4ac3-aa51-430b-92f9-84d8852346a1",
   "metadata": {},
   "outputs": [
    {
     "data": {
      "text/plain": [
       "residual2 (generic function with 1 method)"
      ]
     },
     "execution_count": 300,
     "metadata": {},
     "output_type": "execute_result"
    }
   ],
   "source": [
    "function residual2(x,θ)\n",
    "    c = 299792458.0/1e8\n",
    "    r_tag = x[1:3]\n",
    "    t_tx = x[4]\n",
    "    \n",
    "    r_rx = reshape(θ[1:12], (3,4))\n",
    "    t_rx = θ[14:17]\n",
    "    t_offset = θ[18:20]\n",
    "    \n",
    "    r = zeros(eltype(θ), 4)\n",
    "    r[1] = norm(r_tag - r_rx[:,1])/c - t_rx[1] + t_tx\n",
    "    for k = 2:4\n",
    "        r[k] = norm(r_tag - r_rx[:,k])/c - t_rx[k] + t_offset[k-1] + t_tx\n",
    "    end\n",
    "    \n",
    "    return r\n",
    "end"
   ]
  },
  {
   "cell_type": "code",
   "execution_count": 301,
   "id": "bcc720c7-d99d-4bc5-a21d-a30296bd652b",
   "metadata": {},
   "outputs": [
    {
     "data": {
      "text/plain": [
       "jacobian2 (generic function with 1 method)"
      ]
     },
     "execution_count": 301,
     "metadata": {},
     "output_type": "execute_result"
    }
   ],
   "source": [
    "function jacobian2(x,θ)\n",
    "    c = 299792458.0/1e8\n",
    "    r_tag = x[1:3]\n",
    "    t_tx = x[4]\n",
    "    \n",
    "    r_rx = reshape(θ[1:12], (3,4))\n",
    "    t_rx = θ[14:17]\n",
    "    t_offset = θ[18:20]\n",
    "    \n",
    "    J = zeros(eltype(θ), 4,4)\n",
    "    for k = 1:4\n",
    "        J[k,:] = [(r_tag - r_rx[:,k])'/(c*norm(r_tag - r_rx[:,k])) 1];\n",
    "    end\n",
    "    \n",
    "    return J\n",
    "end"
   ]
  },
  {
   "cell_type": "code",
   "execution_count": 302,
   "id": "5a95415d-dd2e-4acc-97dc-a2fa09460653",
   "metadata": {},
   "outputs": [
    {
     "data": {
      "text/plain": [
       "4-element Vector{Float64}:\n",
       " -1.4685997782790325\n",
       "  1.779882554294614\n",
       "  0.0\n",
       " -2.3307666947977963"
      ]
     },
     "execution_count": 302,
     "metadata": {},
     "output_type": "execute_result"
    }
   ],
   "source": [
    "x2 = [x[1:2]; 0; x[3]]"
   ]
  },
  {
   "cell_type": "code",
   "execution_count": 296,
   "id": "080a6909-6932-4617-b71a-4fa484e77f54",
   "metadata": {},
   "outputs": [
    {
     "data": {
      "text/plain": [
       "4-element Vector{Float64}:\n",
       "  0.1523803759492206\n",
       " -0.020082980455492727\n",
       " -1.7618926700117412\n",
       "  1.629595274517476"
      ]
     },
     "execution_count": 296,
     "metadata": {},
     "output_type": "execute_result"
    }
   ],
   "source": [
    "residual2(x2,θ)"
   ]
  },
  {
   "cell_type": "code",
   "execution_count": 297,
   "id": "e5248f44-36c2-40ad-b405-0fd9345fb556",
   "metadata": {},
   "outputs": [
    {
     "data": {
      "text/plain": [
       "4-element Vector{Float64}:\n",
       "  0.1523803759492206\n",
       " -0.020082980455492727\n",
       " -1.7618926700117412\n",
       "  1.629595274517476"
      ]
     },
     "execution_count": 297,
     "metadata": {},
     "output_type": "execute_result"
    }
   ],
   "source": [
    "residual(x,θ)"
   ]
  },
  {
   "cell_type": "code",
   "execution_count": 299,
   "id": "3f0a6cc5-f19a-4ca3-9515-0248d19eeb9b",
   "metadata": {},
   "outputs": [
    {
     "data": {
      "text/plain": [
       "4×4 Matrix{Float64}:\n",
       "  0.0          -2.77556e-17   0.0          0.0\n",
       "  0.0           0.0           3.46945e-18  0.0\n",
       " -5.55112e-17   1.38778e-17  -4.33681e-19  0.0\n",
       "  0.0           0.0           0.0          0.0"
      ]
     },
     "execution_count": 299,
     "metadata": {},
     "output_type": "execute_result"
    }
   ],
   "source": [
    "ForwardDiff.jacobian(dx->residual2(dx,θ),x2)-jacobian2(x2,θ)"
   ]
  },
  {
   "cell_type": "code",
   "execution_count": 303,
   "id": "e0be677c-7462-4ea2-8b05-69098f8c6196",
   "metadata": {},
   "outputs": [
    {
     "data": {
      "text/plain": [
       "4×20 Matrix{Float64}:\n",
       " -0.873041   0.713999  -0.00749632  …   2.40029    -0.0194485   1.00037\n",
       "  2.17077   -1.77532    0.0186392      -1.13045    -6.91424    -0.36253\n",
       "  0.656392  -0.536817   0.00563608     -0.335043  -29.3936     27.1865\n",
       " -0.424157   0.346888  -0.003642        0.857733    1.38987     0.395127"
      ]
     },
     "execution_count": 303,
     "metadata": {},
     "output_type": "execute_result"
    }
   ],
   "source": [
    "dxdθ2 = jacobian2(x2,θ)\\ForwardDiff.jacobian(dθ->residual2(x2,dθ),θ)"
   ]
  },
  {
   "cell_type": "code",
   "execution_count": 322,
   "id": "2e329683-380b-4862-8a3f-c2bf152fad40",
   "metadata": {},
   "outputs": [
    {
     "data": {
      "text/plain": [
       "20×20 Diagonal{Float64, Vector{Float64}}:\n",
       " 0.01   ⋅     ⋅     ⋅     ⋅     ⋅    …   ⋅     ⋅     ⋅     ⋅     ⋅     ⋅ \n",
       "  ⋅    0.01   ⋅     ⋅     ⋅     ⋅        ⋅     ⋅     ⋅     ⋅     ⋅     ⋅ \n",
       "  ⋅     ⋅    0.03   ⋅     ⋅     ⋅        ⋅     ⋅     ⋅     ⋅     ⋅     ⋅ \n",
       "  ⋅     ⋅     ⋅    0.01   ⋅     ⋅        ⋅     ⋅     ⋅     ⋅     ⋅     ⋅ \n",
       "  ⋅     ⋅     ⋅     ⋅    0.01   ⋅        ⋅     ⋅     ⋅     ⋅     ⋅     ⋅ \n",
       "  ⋅     ⋅     ⋅     ⋅     ⋅    0.03  …   ⋅     ⋅     ⋅     ⋅     ⋅     ⋅ \n",
       "  ⋅     ⋅     ⋅     ⋅     ⋅     ⋅        ⋅     ⋅     ⋅     ⋅     ⋅     ⋅ \n",
       "  ⋅     ⋅     ⋅     ⋅     ⋅     ⋅        ⋅     ⋅     ⋅     ⋅     ⋅     ⋅ \n",
       "  ⋅     ⋅     ⋅     ⋅     ⋅     ⋅        ⋅     ⋅     ⋅     ⋅     ⋅     ⋅ \n",
       "  ⋅     ⋅     ⋅     ⋅     ⋅     ⋅        ⋅     ⋅     ⋅     ⋅     ⋅     ⋅ \n",
       "  ⋅     ⋅     ⋅     ⋅     ⋅     ⋅    …   ⋅     ⋅     ⋅     ⋅     ⋅     ⋅ \n",
       "  ⋅     ⋅     ⋅     ⋅     ⋅     ⋅        ⋅     ⋅     ⋅     ⋅     ⋅     ⋅ \n",
       "  ⋅     ⋅     ⋅     ⋅     ⋅     ⋅        ⋅     ⋅     ⋅     ⋅     ⋅     ⋅ \n",
       "  ⋅     ⋅     ⋅     ⋅     ⋅     ⋅        ⋅     ⋅     ⋅     ⋅     ⋅     ⋅ \n",
       "  ⋅     ⋅     ⋅     ⋅     ⋅     ⋅       0.03   ⋅     ⋅     ⋅     ⋅     ⋅ \n",
       "  ⋅     ⋅     ⋅     ⋅     ⋅     ⋅    …   ⋅    0.03   ⋅     ⋅     ⋅     ⋅ \n",
       "  ⋅     ⋅     ⋅     ⋅     ⋅     ⋅        ⋅     ⋅    0.03   ⋅     ⋅     ⋅ \n",
       "  ⋅     ⋅     ⋅     ⋅     ⋅     ⋅        ⋅     ⋅     ⋅    0.03   ⋅     ⋅ \n",
       "  ⋅     ⋅     ⋅     ⋅     ⋅     ⋅        ⋅     ⋅     ⋅     ⋅    0.03   ⋅ \n",
       "  ⋅     ⋅     ⋅     ⋅     ⋅     ⋅        ⋅     ⋅     ⋅     ⋅     ⋅    0.03"
      ]
     },
     "execution_count": 322,
     "metadata": {},
     "output_type": "execute_result"
    }
   ],
   "source": [
    "Σθ2 = Diagonal([kron(ones(4),[1.0/100; 1.0/100; 3.0/100]); 0.0/100; kron(ones(7),30e-9/1e-6)])"
   ]
  },
  {
   "cell_type": "code",
   "execution_count": 323,
   "id": "002dc505-c86a-45cc-b0de-270f14874620",
   "metadata": {},
   "outputs": [
    {
     "data": {
      "text/plain": [
       "4×4 Matrix{Float64}:\n",
       "  0.769037  -1.06422   1.38107   0.321159\n",
       " -1.06422    5.20682  12.5057   -1.08499\n",
       "  1.38107   12.5057   98.1949   -1.9874\n",
       "  0.321159  -1.08499  -1.9874    0.256523"
      ]
     },
     "execution_count": 323,
     "metadata": {},
     "output_type": "execute_result"
    }
   ],
   "source": [
    "Σx2 = dxdθ2*Σθ2*dxdθ2'"
   ]
  },
  {
   "cell_type": "code",
   "execution_count": 324,
   "id": "daea4701-4822-4732-a481-046d078d7e66",
   "metadata": {},
   "outputs": [
    {
     "data": {
      "text/plain": [
       "1020.6405482145249"
      ]
     },
     "execution_count": 324,
     "metadata": {},
     "output_type": "execute_result"
    }
   ],
   "source": [
    "100*sqrt(tr(Σx2[1:3,1:3]))"
   ]
  },
  {
   "cell_type": "code",
   "execution_count": null,
   "id": "ce294ce5-1440-4b3c-bb3f-107d26469172",
   "metadata": {},
   "outputs": [],
   "source": []
  }
 ],
 "metadata": {
  "kernelspec": {
   "display_name": "Julia 1.9.0",
   "language": "julia",
   "name": "julia-1.9"
  },
  "language_info": {
   "file_extension": ".jl",
   "mimetype": "application/julia",
   "name": "julia",
   "version": "1.9.0"
  }
 },
 "nbformat": 4,
 "nbformat_minor": 5
}
